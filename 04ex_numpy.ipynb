{
 "cells": [
  {
   "cell_type": "code",
   "execution_count": 75,
   "metadata": {},
   "outputs": [],
   "source": [
    "import numpy as np\n",
    "import numpy.random as npr\n",
    "import math\n",
    "import matplotlib.pyplot as plt\n",
    "from timeit import default_timer as timer\n",
    "from datetime import timedelta\n",
    "import timeit"
   ]
  },
  {
   "cell_type": "markdown",
   "metadata": {},
   "source": [
    "1\\. **Reductions**\n",
    "\n",
    "Find the total mean, and the mean for each row and column of the following matrix:\n",
    "\n",
    "```python\n",
    "m = np.arange(12).reshape((3,4))\n",
    "```"
   ]
  },
  {
   "cell_type": "code",
   "execution_count": 76,
   "metadata": {},
   "outputs": [
    {
     "name": "stdout",
     "output_type": "stream",
     "text": [
      "Total mean:  5.5\n",
      "Columns mean:  [4. 5. 6. 7.]\n",
      "Rows mean:  [1.5 5.5 9.5]\n"
     ]
    }
   ],
   "source": [
    "m = np.arange(12).reshape((3,4))\n",
    "print(\"Total mean: \",np.mean(m))\n",
    "columns_mean = (m.sum(axis=0)/len(m.sum(axis=1)))\n",
    "rows_mean = (m.sum(axis=1)/len(m.sum(axis=0)))\n",
    "print(\"Columns mean: \",columns_mean)\n",
    "print(\"Rows mean: \",rows_mean)\n"
   ]
  },
  {
   "cell_type": "markdown",
   "metadata": {},
   "source": [
    "2\\. **Outer product**\n",
    "\n",
    "Find the outer product of the following vectors:\n",
    "\n",
    "```python\n",
    "u = np.array([1, 3, 5, 7])\n",
    "v = np.array([2, 4, 6, 8])\n",
    "```\n",
    "\n",
    "Use different methods to do this:\n",
    "\n",
    "   1. Using the function `outer` in numpy\n",
    "   2. Using a nested `for` loop or a list comprehension\n",
    "   3. Using numpy broadcasting operations"
   ]
  },
  {
   "cell_type": "code",
   "execution_count": 77,
   "metadata": {},
   "outputs": [
    {
     "name": "stdout",
     "output_type": "stream",
     "text": [
      "Outer Product with outer: \n",
      " [[ 2  4  6  8]\n",
      " [ 6 12 18 24]\n",
      " [10 20 30 40]\n",
      " [14 28 42 56]]\n",
      "Outer product with for loop: \n",
      " [[ 2  4  6  8]\n",
      " [ 6 12 18 24]\n",
      " [10 20 30 40]\n",
      " [14 28 42 56]]\n",
      "Outer product using numpy broadcasting: \n",
      " [[ 2  4  6  8]\n",
      " [ 6 12 18 24]\n",
      " [10 20 30 40]\n",
      " [14 28 42 56]]\n"
     ]
    }
   ],
   "source": [
    "u = np.array([1, 3, 5, 7])\n",
    "v = np.array([2, 4, 6, 8])\n",
    "print(\"Outer Product with outer: \\n\", np.outer(u,v))\n",
    "nest = []\n",
    "for i in range(len(u)):\n",
    "    for j in range(len(v)):\n",
    "        nest.append(u[i]*v[j])\n",
    "nest2 = np.array(nest)\n",
    "print(\"Outer product with for loop: \\n\",nest2.reshape(4,4))\n",
    "print(\"Outer product using numpy broadcasting: \\n\",v*u[:,np.newaxis])"
   ]
  },
  {
   "cell_type": "markdown",
   "metadata": {},
   "source": [
    "3\\. **Matrix masking**\n",
    "\n",
    "Create a 10 by 6 matrix of float random numbers, distributed between 0 and 3 according to a flat distribution.\n",
    "\n",
    "After creating the matrix, set all entries $< 0.3$ to zero using a mask."
   ]
  },
  {
   "cell_type": "code",
   "execution_count": 78,
   "metadata": {},
   "outputs": [
    {
     "name": "stdout",
     "output_type": "stream",
     "text": [
      "[[1.48548537 2.85557242 1.99111306 0.65985997 1.695008   1.44871612]\n",
      " [0.94601374 0.46640689 2.82070652 0.95043164 2.59907065 0.        ]\n",
      " [2.14775815 0.58867698 0.70001336 0.98670543 0.         1.03840595]\n",
      " [1.50390604 2.70746006 0.96322148 1.63274108 2.14585175 1.52992688]\n",
      " [1.63119981 2.36924448 0.         0.92661453 2.85811411 2.26749386]\n",
      " [2.04514638 2.06001634 0.         1.01629574 1.88476265 1.67546783]\n",
      " [2.43864068 0.70430414 0.35626365 2.40079935 0.         1.5653364 ]\n",
      " [1.61247676 0.38641548 1.20929953 0.30053821 0.591142   0.91375699]\n",
      " [1.63991856 0.9456892  1.04271995 2.20831267 1.77825752 2.82731393]\n",
      " [1.10128853 1.31690765 0.4672561  1.23655103 2.37077163 0.        ]]\n"
     ]
    }
   ],
   "source": [
    "n = np.random.uniform(low=0, high=3, size=(10,6))\n",
    "n[n<0.3] = 0\n",
    "print(n)"
   ]
  },
  {
   "cell_type": "markdown",
   "metadata": {},
   "source": [
    "4\\. **Trigonometric functions**\n",
    "\n",
    "Use `np.linspace` to create an array of 100 numbers between $0$ and $2\\pi$ (inclusive).\n",
    "\n",
    "  * Extract every 10th element using the slice notation\n",
    "  * Reverse the array using the slice notation\n",
    "  * Extract elements where the absolute difference between the `sin` and `cos` functions evaluated for that element is $< 0.1$\n",
    "  * **Optional**: make a plot showing the sin and cos functions and indicate where they are close"
   ]
  },
  {
   "cell_type": "code",
   "execution_count": 79,
   "metadata": {},
   "outputs": [
    {
     "name": "stdout",
     "output_type": "stream",
     "text": [
      "Array of 100 numbers between  0  and  2𝜋: \n",
      " [0.         0.06346652 0.12693304 0.19039955 0.25386607 0.31733259\n",
      " 0.38079911 0.44426563 0.50773215 0.57119866 0.63466518 0.6981317\n",
      " 0.76159822 0.82506474 0.88853126 0.95199777 1.01546429 1.07893081\n",
      " 1.14239733 1.20586385 1.26933037 1.33279688 1.3962634  1.45972992\n",
      " 1.52319644 1.58666296 1.65012947 1.71359599 1.77706251 1.84052903\n",
      " 1.90399555 1.96746207 2.03092858 2.0943951  2.15786162 2.22132814\n",
      " 2.28479466 2.34826118 2.41172769 2.47519421 2.53866073 2.60212725\n",
      " 2.66559377 2.72906028 2.7925268  2.85599332 2.91945984 2.98292636\n",
      " 3.04639288 3.10985939 3.17332591 3.23679243 3.30025895 3.36372547\n",
      " 3.42719199 3.4906585  3.55412502 3.61759154 3.68105806 3.74452458\n",
      " 3.8079911  3.87145761 3.93492413 3.99839065 4.06185717 4.12532369\n",
      " 4.1887902  4.25225672 4.31572324 4.37918976 4.44265628 4.5061228\n",
      " 4.56958931 4.63305583 4.69652235 4.75998887 4.82345539 4.88692191\n",
      " 4.95038842 5.01385494 5.07732146 5.14078798 5.2042545  5.26772102\n",
      " 5.33118753 5.39465405 5.45812057 5.52158709 5.58505361 5.64852012\n",
      " 5.71198664 5.77545316 5.83891968 5.9023862  5.96585272 6.02931923\n",
      " 6.09278575 6.15625227 6.21971879 6.28318531]\n",
      "\n",
      "\n",
      "Extraction of every 10th element:  [0.57119866 1.20586385 1.84052903 2.47519421 3.10985939 3.74452458\n",
      " 4.37918976 5.01385494 5.64852012 6.28318531] \n",
      "\n",
      "Reversing the array:  [6.28318531 5.64852012 5.01385494 4.37918976 3.74452458 3.10985939\n",
      " 2.47519421 1.84052903 1.20586385 0.57119866] \n",
      "\n",
      "Elements where the absolute difference between the sin and cos functions is <0,1:  [0.76159822 0.82506474 3.87145761 3.93492413]\n"
     ]
    },
    {
     "data": {
      "text/plain": [
       "[<matplotlib.lines.Line2D at 0x18fe1ec8fd0>]"
      ]
     },
     "execution_count": 79,
     "metadata": {},
     "output_type": "execute_result"
    },
    {
     "data": {
      "image/png": "[encoded data removed]",
      "text/plain": [
       "<Figure size 432x288 with 1 Axes>"
      ]
     },
     "metadata": {
      "needs_background": "light"
     },
     "output_type": "display_data"
    }
   ],
   "source": [
    "n = np.linspace(0,2*math.pi,100)\n",
    "f = n.reshape(10,10)\n",
    "print(\"Array of 100 numbers between  0  and  2𝜋: \\n\",n)\n",
    "b = f[:,9:]\n",
    "print('\\n')\n",
    "print(\"Extraction of every 10th element: \",b.flatten(), '\\n')\n",
    "print(\"Reversing the array: \",b[::-1].flatten(), '\\n')\n",
    "mask = (abs(np.sin(n)-np.cos(n))<0.1)\n",
    "filtered_n = n[mask]\n",
    "print(\"Elements where the absolute difference between the sin and cos functions is <0,1: \",  filtered_n)\n",
    "\n",
    "x = np.arange(0,4*np.pi,0.1) \n",
    "plt.plot(np.sin(x))\n",
    "plt.plot(np.cos(x))"
   ]
  },
  {
   "cell_type": "markdown",
   "metadata": {},
   "source": [
    "5\\. **Matrices**\n",
    "\n",
    "Create a matrix that shows the 10 by 10 multiplication table.\n",
    "\n",
    " * Find the trace of the matrix\n",
    " * Extract the anti-diagonal matrix (this should be ```array([10, 18, 24, 28, 30, 30, 28, 24, 18, 10])```)\n",
    " * Extract the diagonal offset by 1 upwards (this should be ```array([ 2,  6, 12, 20, 30, 42, 56, 72, 90])```)"
   ]
  },
  {
   "cell_type": "code",
   "execution_count": 80,
   "metadata": {},
   "outputs": [
    {
     "name": "stdout",
     "output_type": "stream",
     "text": [
      "10 by 10 multiplication table: \n",
      " [[  1   2   3   4   5   6   7   8   9  10]\n",
      " [  2   4   6   8  10  12  14  16  18  20]\n",
      " [  3   6   9  12  15  18  21  24  27  30]\n",
      " [  4   8  12  16  20  24  28  32  36  40]\n",
      " [  5  10  15  20  25  30  35  40  45  50]\n",
      " [  6  12  18  24  30  36  42  48  54  60]\n",
      " [  7  14  21  28  35  42  49  56  63  70]\n",
      " [  8  16  24  32  40  48  56  64  72  80]\n",
      " [  9  18  27  36  45  54  63  72  81  90]\n",
      " [ 10  20  30  40  50  60  70  80  90 100]]\n",
      "Trace of the matrix:  385\n",
      "Anti-diagonal matrix:  [10 18 24 28 30 30 28 24 18 10]\n",
      "Diagonal offset by 1 upwards:  [ 2  6 12 20 30 42 56 72 90]\n"
     ]
    }
   ],
   "source": [
    "m = [[i*j for j in range(1,11)] for i in range(1,11)]\n",
    "n = np.array(m).reshape(10,10)\n",
    "print(\"10 by 10 multiplication table: \\n\", n)\n",
    "print(\"Trace of the matrix: \",np.sum(np.diag(m)))\n",
    "rev_n = np.fliplr(n)\n",
    "print(\"Anti-diagonal matrix: \",np.diag(rev_n))\n",
    "print(\"Diagonal offset by 1 upwards: \",np.diag(n,1))"
   ]
  },
  {
   "cell_type": "markdown",
   "metadata": {},
   "source": [
    "6\\. **Broadcasting**\n",
    "\n",
    "Use broadcasting to create a grid of distances.\n",
    "\n",
    "Route 66 crosses the following cities in the US: Chicago, Springfield, Saint-Louis, Tulsa, Oklahoma City, Amarillo, Santa Fe, Albuquerque, Flagstaff, Los Angeles.\n",
    "\n",
    "The corresponding positions in miles are: 0, 198, 303, 736, 871, 1175, 1475, 1544, 1913, 2448\n",
    "\n",
    "  * Build a 2D grid of distances among each city along Route 66\n",
    "  * Convert the distances in km"
   ]
  },
  {
   "cell_type": "code",
   "execution_count": 81,
   "metadata": {},
   "outputs": [
    {
     "name": "stdout",
     "output_type": "stream",
     "text": [
      "[[    0   198   303   736   871  1175  1475  1544  1913  2448]\n",
      " [ -198     0   105   538   673   977  1277  1346  1715  2250]\n",
      " [ -303  -105     0   433   568   872  1172  1241  1610  2145]\n",
      " [ -736  -538  -433     0   135   439   739   808  1177  1712]\n",
      " [ -871  -673  -568  -135     0   304   604   673  1042  1577]\n",
      " [-1175  -977  -872  -439  -304     0   300   369   738  1273]\n",
      " [-1475 -1277 -1172  -739  -604  -300     0    69   438   973]\n",
      " [-1544 -1346 -1241  -808  -673  -369   -69     0   369   904]\n",
      " [-1913 -1715 -1610 -1177 -1042  -738  -438  -369     0   535]\n",
      " [-2448 -2250 -2145 -1712 -1577 -1273  -973  -904  -535     0]]\n",
      "[[    0.         318.650112   487.631232  1184.477184  1401.738624\n",
      "   1890.9792    2373.7824    2484.827136  3078.675072  3939.674112]\n",
      " [ -318.650112     0.         168.98112    865.827072  1083.088512\n",
      "   1572.329088  2055.132288  2166.177024  2760.02496   3621.024   ]\n",
      " [ -487.631232  -168.98112      0.         696.845952   914.107392\n",
      "   1403.347968  1886.151168  1997.195904  2591.04384   3452.04288 ]\n",
      " [-1184.477184  -865.827072  -696.845952     0.         217.26144\n",
      "    706.502016  1189.305216  1300.349952  1894.197888  2755.196928]\n",
      " [-1401.738624 -1083.088512  -914.107392  -217.26144      0.\n",
      "    489.240576   972.043776  1083.088512  1676.936448  2537.935488]\n",
      " [-1890.9792   -1572.329088 -1403.347968  -706.502016  -489.240576\n",
      "      0.         482.8032     593.847936  1187.695872  2048.694912]\n",
      " [-2373.7824   -2055.132288 -1886.151168 -1189.305216  -972.043776\n",
      "   -482.8032       0.         111.044736   704.892672  1565.891712]\n",
      " [-2484.827136 -2166.177024 -1997.195904 -1300.349952 -1083.088512\n",
      "   -593.847936  -111.044736     0.         593.847936  1454.846976]\n",
      " [-3078.675072 -2760.02496  -2591.04384  -1894.197888 -1676.936448\n",
      "  -1187.695872  -704.892672  -593.847936     0.         860.99904 ]\n",
      " [-3939.674112 -3621.024    -3452.04288  -2755.196928 -2537.935488\n",
      "  -2048.694912 -1565.891712 -1454.846976  -860.99904      0.      ]]\n"
     ]
    }
   ],
   "source": [
    "d = np.array([0, 198, 303, 736, 871, 1175, 1475, 1544, 1913, 2448]) \n",
    "c = np.tile(d, ((len(d),1)))\n",
    "a = c-d[:,np.newaxis]\n",
    "print(a)\n",
    "akm = a*1.609344\n",
    "print(akm)"
   ]
  },
  {
   "cell_type": "markdown",
   "metadata": {},
   "source": [
    "7\\. **Prime numbers sieve**\n",
    "\n",
    "Compute the prime numbers in the 0-N (start with N=99) range with a sieve (mask).\n",
    "\n",
    "  * Constract a shape (N,) boolean array, which is the mask\n",
    "  * Identify the multiples of each number starting from 2 and set accordingly the corresponding mask element\n",
    "  * Apply the mask to obtain an array of ordered prime numbers\n",
    "  * Check the performances (with `timeit`); how does it scale with N?\n",
    "  * Implement the optimization suggested in the [sieve of Eratosthenes](https://en.wikipedia.org/wiki/Sieve_of_Eratosthenes)"
   ]
  },
  {
   "cell_type": "code",
   "execution_count": 82,
   "metadata": {},
   "outputs": [
    {
     "name": "stdout",
     "output_type": "stream",
     "text": [
      "prime_numbers time with N= 10 :  9.489999956713291e-05\n",
      "prime_numbers time with N= 100 :  0.0003233999996155035\n",
      "prime_numbers time with N= 1000 :  0.0267863999997644\n",
      "prime_eratosthenes time with N= 10 :  6.819999998697313e-05\n",
      "prime_eratosthenes time with N= 100 :  0.00018799999998009298\n",
      "prime_eratosthenes time with N= 1000 :  0.004170799999883457\n",
      "Sieve of Eratosthenes is better than default prime function with bigger N\n"
     ]
    },
    {
     "data": {
      "image/png": "[encoded data removed]",
      "text/plain": [
       "<Figure size 432x288 with 1 Axes>"
      ]
     },
     "metadata": {
      "needs_background": "light"
     },
     "output_type": "display_data"
    }
   ],
   "source": [
    "def prime_numbers(N):\n",
    "    numbers=np.arange(0,N+1)\n",
    "    mask=[]\n",
    "    for i in range (N+1):\n",
    "        prime=True\n",
    "        for x in range(i):\n",
    "            if(x>1 and i%x==0):\n",
    "                prime=False\n",
    "        mask.append(prime)\n",
    "    numbers=np.array(numbers)\n",
    "    primes=numbers[mask]\n",
    "    if(primes.size>3):\n",
    "        primes=np.delete(primes, 0)\n",
    "    return primes\n",
    "\n",
    "def prime_eratosthenes(N):\n",
    "    numbers = np.arange(0, N)\n",
    "    mask = np.full((N,), True)\n",
    "    for a in range(math.ceil(math.sqrt(N))): \n",
    "        if(a < 1): \n",
    "            mask[a] = False\n",
    "        elif a >= 2:\n",
    "            if mask[a] == True:\n",
    "                for b in numbers:\n",
    "                    if numbers[b] % a == 0 and numbers[b] != a:\n",
    "                        mask[b] = False\n",
    "    return numbers[mask]\n",
    "\n",
    "a=[10,100,1000]\n",
    "timelist1 = []\n",
    "timelist2 = []\n",
    "for i in range(len(a)):\n",
    "    time = timeit.timeit(stmt='prime_numbers(a[i])', globals=globals(), number=1)\n",
    "    timelist1.append(time)\n",
    "    print('prime_numbers time with N=',a[i],': ',time)\n",
    "    \n",
    "for i in range(len(a)):\n",
    "    time = timeit.timeit(stmt='prime_eratosthenes(a[i])', globals=globals(), number=1)\n",
    "    timelist2.append(time)\n",
    "    print('prime_eratosthenes time with N=',a[i],': ',time)\n",
    "    \n",
    "plt.plot(timelist1)\n",
    "plt.plot(timelist2)\n",
    "plt.title('Function trend with different N')\n",
    "print('Sieve of Eratosthenes is better than default prime function with bigger N')"
   ]
  },
  {
   "cell_type": "markdown",
   "metadata": {},
   "source": [
    "## 8\\. **Diffusion using random walk**\n",
    "\n",
    "Consider a simple random walk process: at each step in time, a walker jumps right or left (+1 or -1) with equal probability. The goal is to find the typical distance from the origin of many random walkers after a given amount of time.\n",
    "\n",
    "*Hint*: create a 2D array where each row represents a walker, and each column represents a time step.\n",
    "\n",
    "  * Take 1000 walkers and let them walk for 200 steps\n",
    "  * Use `randint` to create a 2D array of size $walkers \\times steps$ with values -1 or 1\n",
    "  * Calculate the walking distances for each walker (e.g. by summing the elements in each row)\n",
    "  * Take the square of the previously-obtained array (element-wise)\n",
    "  * Compute the mean of the squared distances at each step (i.e. the mean along the columns)\n",
    "  * **Optional**: plot the average distances ($\\sqrt(distance^2)$) as a function of time (step)"
   ]
  },
  {
   "cell_type": "code",
   "execution_count": 83,
   "metadata": {},
   "outputs": [
    {
     "name": "stdout",
     "output_type": "stream",
     "text": [
      "Walktab: \n",
      " [[ 1  1  1 ... -1 -1  1]\n",
      " [ 1 -1 -1 ...  1 -1  1]\n",
      " [ 1  1 -1 ...  1 -1 -1]\n",
      " ...\n",
      " [ 1  1 -1 ...  1 -1 -1]\n",
      " [ 1  1 -1 ... -1 -1  1]\n",
      " [-1  1  1 ... -1  1  1]]\n",
      "Steps sum: \n",
      " [[  1   2   3 ... -20 -21 -20]\n",
      " [  1   0  -1 ...   8   7   8]\n",
      " [  1   2   1 ... -28 -29 -30]\n",
      " ...\n",
      " [  1   2   1 ...   4   3   2]\n",
      " [  1   2   1 ...  -2  -3  -2]\n",
      " [ -1   0   1 ...  -6  -5  -4]]\n",
      "Square of steps sum: \n",
      " [[  1   4   9 ... 400 441 400]\n",
      " [  1   0   1 ...  64  49  64]\n",
      " [  1   4   1 ... 784 841 900]\n",
      " ...\n",
      " [  1   4   1 ...  16   9   4]\n",
      " [  1   4   1 ...   4   9   4]\n",
      " [  1   0   1 ...  36  25  16]]\n",
      "Mean of of the squared distances at each step: \n",
      " [  1.      1.936   2.928   3.724   4.56    5.536   6.528   7.516   8.2\n",
      "   9.228  10.328  10.976  11.952  13.08   13.712  14.644  15.568  16.392\n",
      "  17.488  18.748  19.672  20.6    21.224  22.556  23.368  24.544  25.288\n",
      "  26.732  28.192  29.148  30.464  31.616  32.208  33.592  34.552  35.276\n",
      "  36.224  37.856  39.608  40.26   41.744  43.328  44.16   45.052  46.568\n",
      "  47.608  49.208  50.112  51.176  51.732  53.416  54.892  55.4    56.088\n",
      "  57.24   57.996  59.112  59.964  60.456  61.54   62.528  64.756  65.016\n",
      "  65.608  66.544  67.796  67.888  68.52   68.912  68.584  69.768  69.748\n",
      "  71.432  72.852  74.712  75.8    77.64   77.748  78.912  79.828  80.136\n",
      "  81.24   82.128  83.068  85.112  86.64   87.696  88.448  89.352  89.232\n",
      "  90.912  91.908  93.296  94.924  96.2    96.888  97.856  99.412 100.168\n",
      " 102.94  103.928 105.032 105.952 106.876 107.92  108.62  108.88  109.76\n",
      " 112.    112.9   114.408 114.952 116.264 117.988 118.352 119.172 120.032\n",
      " 121.2   122.512 123.504 124.528 125.72  125.824 126.292 126.904 127.524\n",
      " 127.128 127.004 127.872 128.172 129.496 130.012 130.84  131.8   133.2\n",
      " 135.42  136.592 136.472 138.656 138.24  139.208 140.288 141.336 144.2\n",
      " 145.104 146.324 147.584 148.772 151.408 152.892 153.6   155.212 156.728\n",
      " 158.7   159.528 160.98  161.88  162.736 165.08  164.692 166.096 167.46\n",
      " 167.48  168.212 168.376 169.072 170.2   168.336 168.872 169.6   170.776\n",
      " 171.224 172.312 172.652 171.88  171.68  173.064 173.888 175.432 176.444\n",
      " 177.08  178.524 178.648 179.804 180.704 183.108 184.04  186.284 187.352\n",
      " 188.524 188.688 189.36  191.032 191.568 193.344 193.596 195.256 195.852\n",
      " 195.432 196.504]\n"
     ]
    },
    {
     "data": {
      "text/plain": [
       "Text(0, 0.5, 'Average Distance')"
      ]
     },
     "execution_count": 83,
     "metadata": {},
     "output_type": "execute_result"
    },
    {
     "data": {
      "image/png": "[encoded data removed]",
      "text/plain": [
       "<Figure size 432x288 with 1 Axes>"
      ]
     },
     "metadata": {
      "needs_background": "light"
     },
     "output_type": "display_data"
    }
   ],
   "source": [
    "walkers = 1000\n",
    "steps = 200\n",
    "walktab = np.random.randint(low=0, high=2, size=(1000,200))\n",
    "walktab[walktab==0]=-1\n",
    "print(\"Walktab: \\n\",walktab)\n",
    "\n",
    "distances = walktab.cumsum(axis=1)\n",
    "print(\"Steps sum: \\n\",distances)\n",
    "\n",
    "sqr = np.square(distances)\n",
    "print(\"Square of steps sum: \\n\", sqr)\n",
    "\n",
    "arrmean=np.mean(sqr,axis=0)\n",
    "print(\"Mean of of the squared distances at each step: \\n\", arrmean)\n",
    "\n",
    "\n",
    "sqrrt = np.sqrt(arrmean)\n",
    "plt.plot(np.arange(1,201),sqrrt)\n",
    "plt.title('The average distances as a function of time (step)')\n",
    "plt.xlabel('Time(steps)')\n",
    "plt.ylabel('Average Distance')"
   ]
  },
  {
   "cell_type": "code",
   "execution_count": null,
   "metadata": {},
   "outputs": [],
   "source": []
  }
 ],
 "metadata": {
  "kernelspec": {
   "display_name": "Python 3 (ipykernel)",
   "language": "python",
   "name": "python3"
  },
  "language_info": {
   "codemirror_mode": {
    "name": "ipython",
    "version": 3
   },
   "file_extension": ".py",
   "mimetype": "text/x-python",
   "name": "python",
   "nbconvert_exporter": "python",
   "pygments_lexer": "ipython3",
   "version": "3.9.12"
  }
 },
 "nbformat": 4,
 "nbformat_minor": 2
}
